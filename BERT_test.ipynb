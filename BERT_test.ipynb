{
  "cells": [
    {
      "cell_type": "code",
      "execution_count": 1,
      "metadata": {
        "colab": {
          "base_uri": "https://localhost:8080/"
        },
        "id": "POYUQz-AazmO",
        "outputId": "e711d026-d203-47e3-831d-fd7281d530e5"
      },
      "outputs": [
        {
          "name": "stdout",
          "output_type": "stream",
          "text": [
            "Requirement already satisfied: transformers in /home/tuannm/anaconda3/envs/chatbotdocs/lib/python3.10/site-packages (4.33.3)\n",
            "Requirement already satisfied: filelock in /home/tuannm/anaconda3/envs/chatbotdocs/lib/python3.10/site-packages (from transformers) (3.12.4)\n",
            "Requirement already satisfied: huggingface-hub<1.0,>=0.15.1 in /home/tuannm/anaconda3/envs/chatbotdocs/lib/python3.10/site-packages (from transformers) (0.17.3)\n",
            "Requirement already satisfied: numpy>=1.17 in /home/tuannm/anaconda3/envs/chatbotdocs/lib/python3.10/site-packages (from transformers) (1.26.0)\n",
            "Requirement already satisfied: packaging>=20.0 in /home/tuannm/anaconda3/envs/chatbotdocs/lib/python3.10/site-packages (from transformers) (23.2)\n",
            "Requirement already satisfied: pyyaml>=5.1 in /home/tuannm/anaconda3/envs/chatbotdocs/lib/python3.10/site-packages (from transformers) (6.0.1)\n",
            "Requirement already satisfied: regex!=2019.12.17 in /home/tuannm/anaconda3/envs/chatbotdocs/lib/python3.10/site-packages (from transformers) (2023.8.8)\n",
            "Requirement already satisfied: requests in /home/tuannm/anaconda3/envs/chatbotdocs/lib/python3.10/site-packages (from transformers) (2.31.0)\n",
            "Requirement already satisfied: tokenizers!=0.11.3,<0.14,>=0.11.1 in /home/tuannm/anaconda3/envs/chatbotdocs/lib/python3.10/site-packages (from transformers) (0.13.3)\n",
            "Requirement already satisfied: safetensors>=0.3.1 in /home/tuannm/anaconda3/envs/chatbotdocs/lib/python3.10/site-packages (from transformers) (0.3.3)\n",
            "Requirement already satisfied: tqdm>=4.27 in /home/tuannm/anaconda3/envs/chatbotdocs/lib/python3.10/site-packages (from transformers) (4.66.1)\n",
            "Requirement already satisfied: fsspec in /home/tuannm/anaconda3/envs/chatbotdocs/lib/python3.10/site-packages (from huggingface-hub<1.0,>=0.15.1->transformers) (2023.9.2)\n",
            "Requirement already satisfied: typing-extensions>=3.7.4.3 in /home/tuannm/anaconda3/envs/chatbotdocs/lib/python3.10/site-packages (from huggingface-hub<1.0,>=0.15.1->transformers) (4.7.1)\n",
            "Requirement already satisfied: charset-normalizer<4,>=2 in /home/tuannm/anaconda3/envs/chatbotdocs/lib/python3.10/site-packages (from requests->transformers) (3.1.0)\n",
            "Requirement already satisfied: idna<4,>=2.5 in /home/tuannm/anaconda3/envs/chatbotdocs/lib/python3.10/site-packages (from requests->transformers) (2.10)\n",
            "Requirement already satisfied: urllib3<3,>=1.21.1 in /home/tuannm/anaconda3/envs/chatbotdocs/lib/python3.10/site-packages (from requests->transformers) (1.26.16)\n",
            "Requirement already satisfied: certifi>=2017.4.17 in /home/tuannm/anaconda3/envs/chatbotdocs/lib/python3.10/site-packages (from requests->transformers) (2023.7.22)\n"
          ]
        }
      ],
      "source": [
        "!pip install transformers"
      ]
    },
    {
      "cell_type": "code",
      "execution_count": 2,
      "metadata": {
        "colab": {
          "base_uri": "https://localhost:8080/"
        },
        "id": "DJUDrxwKbCU0",
        "outputId": "1c060026-373c-4d6e-a731-17dd1185ad0d"
      },
      "outputs": [
        {
          "name": "stderr",
          "output_type": "stream",
          "text": [
            "/home/tuannm/anaconda3/envs/chatbotdocs/lib/python3.10/site-packages/tqdm/auto.py:21: TqdmWarning: IProgress not found. Please update jupyter and ipywidgets. See https://ipywidgets.readthedocs.io/en/stable/user_install.html\n",
            "  from .autonotebook import tqdm as notebook_tqdm\n",
            "Some weights of the model checkpoint at bert-large-uncased-whole-word-masking-finetuned-squad were not used when initializing BertForQuestionAnswering: ['bert.pooler.dense.weight', 'bert.pooler.dense.bias']\n",
            "- This IS expected if you are initializing BertForQuestionAnswering from the checkpoint of a model trained on another task or with another architecture (e.g. initializing a BertForSequenceClassification model from a BertForPreTraining model).\n",
            "- This IS NOT expected if you are initializing BertForQuestionAnswering from the checkpoint of a model that you expect to be exactly identical (initializing a BertForSequenceClassification model from a BertForSequenceClassification model).\n"
          ]
        }
      ],
      "source": [
        "from transformers import BertTokenizer\n",
        "from transformers import BertForQuestionAnswering\n",
        "import torch\n",
        "\n",
        "# Initialize tokenizer for corpus of bert-large-uncased\n",
        "tokenizer = BertTokenizer.from_pretrained('bert-large-uncased-whole-word-masking-finetuned-squad')\n",
        "\n",
        "# Initialize model BertForQuestionAnswering for bert-large-uncased\n",
        "model = BertForQuestionAnswering.from_pretrained('bert-large-uncased-whole-word-masking-finetuned-squad')\n",
        "\n",
        "def answer_question(question, answer_text):\n",
        "    '''\n",
        "    Lấy input là chuỗi string của câu question và answer_text chứa nội dung câu trả lời của câu question.\n",
        "    Xác định từ trong answer_text là câu trả lời và in ra.\n",
        "    '''\n",
        "    # ======== Tokenize ========\n",
        "    # Áp dụng tokenizer cho cặp câu <question, answer_text>. input_ids là concatenate indice của cả 2 câu sau khi đã thêm các token CLS và SEP như mô tả trong tác vụ Question and Answering.\n",
        "    input_ids = tokenizer.encode(question, answer_text)\n",
        "\n",
        "    # ======== Set Segment IDs ========\n",
        "    # Xác định vị trí đầu tiên chứa token [SEP] trong câu.\n",
        "    tokens = tokenizer.convert_ids_to_tokens(input_ids)\n",
        "    sep_index = tokens.index('[SEP]')\n",
        "\n",
        "    # Tạo segment index đánh dấu các vị trí từ thuộc question (giá trị 0) và answer_text (giá trị 1)\n",
        "    num_seg_a = sep_index + 1\n",
        "    num_seg_b = len(input_ids) - num_seg_a\n",
        "    segment_ids = [0]*num_seg_a + [1]*num_seg_b\n",
        "    print(segment_ids)\n",
        "\n",
        "    # Kiểm tra độ dài segment_ids phải bằng input_ids\n",
        "    assert len(segment_ids) == len(input_ids)\n",
        "\n",
        "    # ======== Evaluate ========\n",
        "    # Dự báo phân phối xác suất của vị trí của từ start và từ end trong chuỗi concatenate <question, answer_text> mà chứa kết quả cho câu trả lời.\n",
        "    out = model(torch.tensor([input_ids]), # chuỗi index biểu thị cho inputs.\n",
        "                                    token_type_ids=torch.tensor([segment_ids])) # chuỗi index thành phần segment câu để phân biệt giữa câu question và câu answer_text\n",
        "\n",
        "    # ======== Reconstruct Answer ========\n",
        "    # Tìm ra vị trí start, end với score là cao nhất\n",
        "    answer_start = torch.argmax(out['start_logits'])\n",
        "    answer_end = torch.argmax(out['end_logits'])\n",
        "\n",
        "    # Chuyển ngược từ input_ids sang list tokens\n",
        "    tokens = tokenizer.convert_ids_to_tokens(input_ids)\n",
        "\n",
        "    # Token đầu tiên của câu trả lời\n",
        "    answer = tokens[answer_start]\n",
        "\n",
        "    # Lựa chọn các thành phần còn lại của câu trả lời và join chúng với whitespace.\n",
        "    for i in range(answer_start + 1, answer_end + 1):\n",
        "\n",
        "        # Nếu token là một subword token (có dấu ## ở đầu) thì combine vào answer bằng token gốc (loại bỏ dấu ##).\n",
        "        if tokens[i][0:2] == '##':\n",
        "            answer += tokens[i][2:]\n",
        "\n",
        "        # Nếu trái lại thì combine trực tiếp vào answer.\n",
        "        else:\n",
        "            answer += ' ' + tokens[i]\n",
        "    return answer"
      ]
    },
    {
      "cell_type": "code",
      "execution_count": 3,
      "metadata": {
        "colab": {
          "base_uri": "https://localhost:8080/"
        },
        "id": "X-1_8VkNhxjs",
        "outputId": "88a1430f-9313-4d95-d37a-c9d35089f3e3"
      },
      "outputs": [
        {
          "name": "stdout",
          "output_type": "stream",
          "text": [
            "Requirement already satisfied: googletrans==4.0.0-rc1 in /home/tuannm/anaconda3/envs/chatbotdocs/lib/python3.10/site-packages (4.0.0rc1)\n",
            "Requirement already satisfied: httpx==0.13.3 in /home/tuannm/anaconda3/envs/chatbotdocs/lib/python3.10/site-packages (from googletrans==4.0.0-rc1) (0.13.3)\n",
            "Requirement already satisfied: certifi in /home/tuannm/anaconda3/envs/chatbotdocs/lib/python3.10/site-packages (from httpx==0.13.3->googletrans==4.0.0-rc1) (2023.7.22)\n",
            "Requirement already satisfied: hstspreload in /home/tuannm/anaconda3/envs/chatbotdocs/lib/python3.10/site-packages (from httpx==0.13.3->googletrans==4.0.0-rc1) (2023.1.1)\n",
            "Requirement already satisfied: sniffio in /home/tuannm/anaconda3/envs/chatbotdocs/lib/python3.10/site-packages (from httpx==0.13.3->googletrans==4.0.0-rc1) (1.3.0)\n",
            "Requirement already satisfied: chardet==3.* in /home/tuannm/anaconda3/envs/chatbotdocs/lib/python3.10/site-packages (from httpx==0.13.3->googletrans==4.0.0-rc1) (3.0.4)\n",
            "Requirement already satisfied: idna==2.* in /home/tuannm/anaconda3/envs/chatbotdocs/lib/python3.10/site-packages (from httpx==0.13.3->googletrans==4.0.0-rc1) (2.10)\n",
            "Requirement already satisfied: rfc3986<2,>=1.3 in /home/tuannm/anaconda3/envs/chatbotdocs/lib/python3.10/site-packages (from httpx==0.13.3->googletrans==4.0.0-rc1) (1.5.0)\n",
            "Requirement already satisfied: httpcore==0.9.* in /home/tuannm/anaconda3/envs/chatbotdocs/lib/python3.10/site-packages (from httpx==0.13.3->googletrans==4.0.0-rc1) (0.9.1)\n",
            "Requirement already satisfied: h11<0.10,>=0.8 in /home/tuannm/anaconda3/envs/chatbotdocs/lib/python3.10/site-packages (from httpcore==0.9.*->httpx==0.13.3->googletrans==4.0.0-rc1) (0.9.0)\n",
            "Requirement already satisfied: h2==3.* in /home/tuannm/anaconda3/envs/chatbotdocs/lib/python3.10/site-packages (from httpcore==0.9.*->httpx==0.13.3->googletrans==4.0.0-rc1) (3.2.0)\n",
            "Requirement already satisfied: hyperframe<6,>=5.2.0 in /home/tuannm/anaconda3/envs/chatbotdocs/lib/python3.10/site-packages (from h2==3.*->httpcore==0.9.*->httpx==0.13.3->googletrans==4.0.0-rc1) (5.2.0)\n",
            "Requirement already satisfied: hpack<4,>=3.0 in /home/tuannm/anaconda3/envs/chatbotdocs/lib/python3.10/site-packages (from h2==3.*->httpcore==0.9.*->httpx==0.13.3->googletrans==4.0.0-rc1) (3.0.0)\n"
          ]
        }
      ],
      "source": [
        "!pip install googletrans==4.0.0-rc1"
      ]
    },
    {
      "cell_type": "code",
      "execution_count": 4,
      "metadata": {
        "id": "gzGiB_XGhfpa"
      },
      "outputs": [],
      "source": [
        "from googletrans import Translator\n",
        "\n",
        "def vi_to_en(text):\n",
        "  translator = Translator()\n",
        "  translation = translator.translate(text, src='vi', dest='en')\n",
        "  return translation.text\n",
        "\n",
        "def en_to_vi(text):\n",
        "  translator = Translator()\n",
        "  translation = translator.translate(text, src='en', dest='vi')\n",
        "  return translation.text"
      ]
    },
    {
      "cell_type": "code",
      "execution_count": 5,
      "metadata": {
        "colab": {
          "base_uri": "https://localhost:8080/",
          "height": 72
        },
        "id": "UR423NY9dVQD",
        "outputId": "c0ba8ad7-8233-4087-ffbd-43d17a54c7ca"
      },
      "outputs": [
        {
          "name": "stdout",
          "output_type": "stream",
          "text": [
            "[0, 0, 0, 0, 0, 0, 0, 0, 0, 0, 0, 0, 0, 0, 0, 0, 0, 0, 0, 0, 0, 0, 0, 0, 0, 0, 0, 0, 0, 0, 0, 0, 0, 0, 0, 0, 0, 0, 0, 0, 0, 0, 0, 0, 0, 0, 0, 0, 0, 0, 0, 0, 0, 0, 0, 0, 0, 0, 0, 0, 0, 0, 0, 0, 0, 0, 0, 0, 0, 0, 0, 1, 1, 1, 1, 1, 1, 1]\n"
          ]
        },
        {
          "data": {
            "text/plain": [
              "'Phần bên phải cho phép ý định tìm kiếm trong cơ sở dữ liệu'"
            ]
          },
          "execution_count": 5,
          "metadata": {},
          "output_type": "execute_result"
        }
      ],
      "source": [
        "question = vi_to_en(\"\"\"\n",
        "Section bên tay trái với title Thêm mới dữ liệu để thêm câu trả lời cho câu hỏi được ghi nhận trong trường hợp Chưa tồn tại intent.\n",
        "Section bên tay phải cho phép search các intent đã có trong database -> Cho phép người dùng kiếm tra câu hỏi được ghi nhận và thêm câu hỏi vào làm examples cho intent đã tồn tại trong database. Thao tác:\n",
        "Click chuột vào intent (hàng chứa intent)\n",
        "\"\"\")\n",
        "paragraph = vi_to_en(\"tôi có thể tìm kiếm câu hỏi như tn\")\n",
        "\n",
        "en_to_vi(answer_question(question, paragraph))\n",
        "\n"
      ]
    },
    {
      "cell_type": "code",
      "execution_count": 6,
      "metadata": {
        "colab": {
          "base_uri": "https://localhost:8080/"
        },
        "id": "BozF_OtDks_J",
        "outputId": "ae71e156-22f0-4764-8d98-d2b4d1cc294d"
      },
      "outputs": [
        {
          "name": "stdout",
          "output_type": "stream",
          "text": [
            "Python 3.10.12\n"
          ]
        }
      ],
      "source": [
        "!python --version\n"
      ]
    }
  ],
  "metadata": {
    "accelerator": "GPU",
    "colab": {
      "gpuType": "T4",
      "provenance": []
    },
    "kernelspec": {
      "display_name": "Python 3",
      "name": "python3"
    },
    "language_info": {
      "codemirror_mode": {
        "name": "ipython",
        "version": 3
      },
      "file_extension": ".py",
      "mimetype": "text/x-python",
      "name": "python",
      "nbconvert_exporter": "python",
      "pygments_lexer": "ipython3",
      "version": "3.10.12"
    }
  },
  "nbformat": 4,
  "nbformat_minor": 0
}
