{
 "cells": [
  {
   "cell_type": "code",
   "execution_count": 29,
   "id": "alive-toner",
   "metadata": {
    "execution": {
     "iopub.execute_input": "2021-06-20T07:25:57.277979Z",
     "iopub.status.busy": "2021-06-20T07:25:57.277207Z",
     "iopub.status.idle": "2021-06-20T07:25:59.265102Z",
     "shell.execute_reply": "2021-06-20T07:25:59.264376Z",
     "shell.execute_reply.started": "2021-06-20T07:19:37.088866Z"
    },
    "id": "dPAV-0nFRQE7",
    "papermill": {
     "duration": 2.011003,
     "end_time": "2021-06-20T07:25:59.265287",
     "exception": false,
     "start_time": "2021-06-20T07:25:57.254284",
     "status": "completed"
    },
    "tags": []
   },
   "outputs": [],
   "source": [
    "# importing the librtaries\n",
    "import numpy as np\n",
    "import nltk\n",
    "import underthesea\n",
    "import re\n",
    "import gensim\n",
    "from gensim.parsing.preprocessing import remove_stopwords\n",
    "from gensim import corpora\n",
    "from sklearn.feature_extraction.text import TfidfVectorizer \n",
    "import heapq"
   ]
  },
  {
   "cell_type": "code",
   "execution_count": 30,
   "id": "brown-robin",
   "metadata": {
    "execution": {
     "iopub.execute_input": "2021-06-20T07:25:59.290346Z",
     "iopub.status.busy": "2021-06-20T07:25:59.288394Z",
     "iopub.status.idle": "2021-06-20T07:25:59.291128Z",
     "shell.execute_reply": "2021-06-20T07:25:59.291588Z",
     "shell.execute_reply.started": "2021-06-20T07:19:39.165116Z"
    },
    "id": "UUfONi2IRTe0",
    "papermill": {
     "duration": 0.017445,
     "end_time": "2021-06-20T07:25:59.291771",
     "exception": false,
     "start_time": "2021-06-20T07:25:59.274326",
     "status": "completed"
    },
    "tags": []
   },
   "outputs": [],
   "source": [
    "# text from wikipedia about Elon Musk\n",
    "txt = \"\"\"Mặc dù là cập nhật, nâng cấp nhưng các yêu cầu quản lý theo các quy định\n",
    "mới (Thông tư số 02/2018/TT-BXD ngày 06/2/2018 của Bộ Xây dựng quy định về\n",
    "bảo vệ môi trường trong thi công xây dựng công trình và chế độ báo cáo công tác bảo\n",
    "vệ môi trường ngành Xây dựng; Thông tư số 08/2017/TT-BXD ngày 16/5/2017 của\n",
    "Bộ Xây dựng về quy định quản lý chất thải rắn xây dựng) của Bộ Xây dựng có nhiều\n",
    "điểm rất khác so với phần mềm trước. Vì vậy, nhóm tác giả xây dựng phần mềm\n",
    "rất mong nhận được sự đóng góp quý báu về chuyên môn và nghiệp vụ quản lý\n",
    "của các cán bộ khai thác, sử dụng phần mềm để chúng tôi có cơ sở hoàn thiện, bổ\n",
    "sung thêm các chức năng, tiện ích trong các phiên bản sau. \"\"\""
   ]
  },
  {
   "cell_type": "code",
   "execution_count": 31,
   "id": "da498c09",
   "metadata": {},
   "outputs": [],
   "source": [
    "def read_stopwords(filepath):\n",
    "    lines = []\n",
    "\n",
    "    # Open the file for reading\n",
    "    with open(filepath, 'r', encoding='utf-8') as file:\n",
    "        # Read each line in the file\n",
    "        for line in file:\n",
    "            # Append each line to the list, removing leading and trailing whitespace\n",
    "            lines.append(line.strip())\n",
    "            \n",
    "    return lines"
   ]
  },
  {
   "cell_type": "code",
   "execution_count": 32,
   "id": "9e9d5cf0",
   "metadata": {},
   "outputs": [],
   "source": [
    "vi_stopwords = read_stopwords(\"./vietnamese-stopwords.txt\")"
   ]
  },
  {
   "cell_type": "code",
   "execution_count": 33,
   "id": "cardiac-andrew",
   "metadata": {
    "execution": {
     "iopub.execute_input": "2021-06-20T07:25:59.322566Z",
     "iopub.status.busy": "2021-06-20T07:25:59.321864Z",
     "iopub.status.idle": "2021-06-20T07:25:59.325157Z",
     "shell.execute_reply": "2021-06-20T07:25:59.324631Z",
     "shell.execute_reply.started": "2021-06-20T07:20:15.247977Z"
    },
    "id": "PbsfOh6URTll",
    "papermill": {
     "duration": 0.024813,
     "end_time": "2021-06-20T07:25:59.325300",
     "exception": false,
     "start_time": "2021-06-20T07:25:59.300487",
     "status": "completed"
    },
    "tags": []
   },
   "outputs": [],
   "source": [
    "#class for preprocessing and creating word embedding\n",
    "class Preprocessing:\n",
    "    #constructor\n",
    "    def __init__(self,txt):\n",
    "        # Tokenization\n",
    "        nltk.download('punkt')  #punkt is nltk tokenizer \n",
    "        # breaking text to sentences\n",
    "        tokens = underthesea.sent_tokenize(txt) \n",
    "        self.tokens = tokens\n",
    "        self.tfidfvectoriser=TfidfVectorizer()\n",
    "\n",
    "    # Data Cleaning\n",
    "    # remove extra spaces\n",
    "    # convert sentences to lower case \n",
    "    # remove stopword\n",
    "    def clean_sentence(self, sentence, stopwords=False):\n",
    "        sentence = sentence.lower().strip()\n",
    "        sentence = re.sub(r'[^a-zA-Z0-9\\sÀÁẢẠÃĂẰẮẲẶẴÂẦẤẨẬẪÈÉẺẸẼÊỀẾỂỆỄÌÍỈỊĨÒÓỎỌÕÔỒỐỔỘỖƠỜỚỞỢỠÙÚỦỤŨƯỪỨỬỰỮỲÝỶỴỸàáảạãăằắẳặẵâầấẩậẫèéẻẹẽêềếểệễìíỉịĩòóỏọõôồốổộỗơờớởợỡùúủụũưừứửựữỳýỷỵỹđ]+', '', sentence)\n",
    "        if stopwords:\n",
    "            sentence = remove_stopwords(sentence)\n",
    "        return sentence\n",
    "\n",
    "    # store cleaned sentences to cleaned_sentences\n",
    "    def get_cleaned_sentences(self,tokens, stopwords=False):\n",
    "        cleaned_sentences = []\n",
    "        for line in tokens:\n",
    "            cleaned = self.clean_sentence(line, stopwords)\n",
    "            cleaned_sentences.append(cleaned)\n",
    "        return cleaned_sentences\n",
    "\n",
    "    #do all the cleaning\n",
    "    def cleanall(self):\n",
    "        cleaned_sentences = self.get_cleaned_sentences(self.tokens, stopwords=True)\n",
    "        cleaned_sentences_with_stopwords = self.get_cleaned_sentences(self.tokens, stopwords=False)\n",
    "        # print(cleaned_sentences)\n",
    "        # print(cleaned_sentences_with_stopwords)\n",
    "        return [cleaned_sentences,cleaned_sentences_with_stopwords]\n",
    "\n",
    "    # TF-IDF Vectorizer\n",
    "    def TFIDF(self,cleaned_sentences):\n",
    "        self.tfidfvectoriser.fit(cleaned_sentences)\n",
    "        tfidf_vectors=self.tfidfvectoriser.transform(cleaned_sentences)\n",
    "        return tfidf_vectors\n",
    "\n",
    "    #tfidf for question\n",
    "    def TFIDF_Q(self,question_to_be_cleaned):\n",
    "        tfidf_vectors=self.tfidfvectoriser.transform([question_to_be_cleaned])\n",
    "        return tfidf_vectors\n",
    "\n",
    "    # main call function\n",
    "    def doall(self):\n",
    "        cleaned_sentences, cleaned_sentences_with_stopwords = self.cleanall()\n",
    "        tfidf = self.TFIDF(cleaned_sentences)\n",
    "        return [cleaned_sentences,cleaned_sentences_with_stopwords,tfidf]\n"
   ]
  },
  {
   "cell_type": "code",
   "execution_count": 34,
   "id": "dried-fraction",
   "metadata": {
    "execution": {
     "iopub.execute_input": "2021-06-20T07:25:59.352347Z",
     "iopub.status.busy": "2021-06-20T07:25:59.351271Z",
     "iopub.status.idle": "2021-06-20T07:25:59.353781Z",
     "shell.execute_reply": "2021-06-20T07:25:59.354254Z",
     "shell.execute_reply.started": "2021-06-20T07:20:17.933044Z"
    },
    "id": "3Lk2YxIPRaC1",
    "papermill": {
     "duration": 0.020313,
     "end_time": "2021-06-20T07:25:59.354446",
     "exception": false,
     "start_time": "2021-06-20T07:25:59.334133",
     "status": "completed"
    },
    "tags": []
   },
   "outputs": [],
   "source": [
    "#class for answering the question.\n",
    "class AnswerMe:\n",
    "    #cosine similarity\n",
    "    def Cosine(self, question_vector, sentence_vector):\n",
    "        dot_product = np.dot(question_vector, sentence_vector.T)\n",
    "        denominator = (np.linalg.norm(question_vector) * np.linalg.norm(sentence_vector))\n",
    "        return dot_product/denominator\n",
    "    \n",
    "    #Euclidean distance\n",
    "    def Euclidean(self, question_vector, sentence_vector):\n",
    "        vec1 = question_vector.copy()\n",
    "        vec2 = sentence_vector.copy()\n",
    "        if len(vec1)<len(vec2): vec1,vec2 = vec2,vec1\n",
    "        vec2 = np.resize(vec2,(vec1.shape[0],vec1.shape[1]))\n",
    "        return np.linalg.norm(vec1-vec2)\n",
    "\n",
    "    # main call function\n",
    "    def answer(self, question_vector, sentence_vector, method):\n",
    "        if method==1: return self.Euclidean(question_vector,sentence_vector)\n",
    "        else: return self.Cosine(question_vector,sentence_vector)\n"
   ]
  },
  {
   "cell_type": "code",
   "execution_count": 35,
   "id": "incoming-globe",
   "metadata": {
    "execution": {
     "iopub.execute_input": "2021-06-20T07:25:59.376514Z",
     "iopub.status.busy": "2021-06-20T07:25:59.375528Z",
     "iopub.status.idle": "2021-06-20T07:25:59.383100Z",
     "shell.execute_reply": "2021-06-20T07:25:59.382443Z",
     "shell.execute_reply.started": "2021-06-20T07:22:02.908309Z"
    },
    "id": "xjbJiKySRdbs",
    "papermill": {
     "duration": 0.019575,
     "end_time": "2021-06-20T07:25:59.383240",
     "exception": false,
     "start_time": "2021-06-20T07:25:59.363665",
     "status": "completed"
    },
    "tags": []
   },
   "outputs": [],
   "source": [
    "def RetrieveAnswer(question_embedding, tfidf_vectors,method=1):\n",
    "    similarity_heap = []\n",
    "    if method==1: max_similarity = float('inf')\n",
    "    else: max_similarity = -1\n",
    "    index_similarity = -1\n",
    "\n",
    "    for index, embedding in enumerate(tfidf_vectors):  \n",
    "        find_similarity = AnswerMe()\n",
    "        similarity = find_similarity.answer((question_embedding).toarray(),(embedding).toarray() , method).mean()\n",
    "        if method==1:\n",
    "            heapq.heappush(similarity_heap,(similarity,index))\n",
    "        else:\n",
    "            heapq.heappush(similarity_heap,(-similarity,index))\n",
    "            \n",
    "    return similarity_heap\n"
   ]
  },
  {
   "cell_type": "code",
   "execution_count": 36,
   "id": "acceptable-oxford",
   "metadata": {
    "execution": {
     "iopub.execute_input": "2021-06-20T07:25:59.405463Z",
     "iopub.status.busy": "2021-06-20T07:25:59.404787Z",
     "iopub.status.idle": "2021-06-20T07:25:59.407734Z",
     "shell.execute_reply": "2021-06-20T07:25:59.407223Z",
     "shell.execute_reply.started": "2021-06-20T07:22:17.074001Z"
    },
    "id": "KwSarMVVRff8",
    "papermill": {
     "duration": 0.015849,
     "end_time": "2021-06-20T07:25:59.407896",
     "exception": false,
     "start_time": "2021-06-20T07:25:59.392047",
     "status": "completed"
    },
    "tags": []
   },
   "outputs": [],
   "source": [
    "# Put Your question here\n",
    "user_question = \"Tại sao nhóm tác giả xây dựng phần mềm này\"\n",
    "#define method\n",
    "method = 1"
   ]
  },
  {
   "cell_type": "code",
   "execution_count": 37,
   "id": "moved-alias",
   "metadata": {
    "execution": {
     "iopub.execute_input": "2021-06-20T07:25:59.439696Z",
     "iopub.status.busy": "2021-06-20T07:25:59.438987Z",
     "iopub.status.idle": "2021-06-20T07:25:59.695975Z",
     "shell.execute_reply": "2021-06-20T07:25:59.695306Z",
     "shell.execute_reply.started": "2021-06-20T07:22:19.932569Z"
    },
    "id": "JJR4MfGRRobc",
    "papermill": {
     "duration": 0.279254,
     "end_time": "2021-06-20T07:25:59.696126",
     "exception": false,
     "start_time": "2021-06-20T07:25:59.416872",
     "status": "completed"
    },
    "tags": []
   },
   "outputs": [
    {
     "name": "stderr",
     "output_type": "stream",
     "text": [
      "[nltk_data] Downloading package punkt to\n",
      "[nltk_data]     C:\\Users\\hoang\\AppData\\Roaming\\nltk_data...\n",
      "[nltk_data]   Package punkt is already up-to-date!\n"
     ]
    }
   ],
   "source": [
    "preprocess = Preprocessing(txt)\n",
    "cleaned_sentences,cleaned_sentences_with_stopwords,tfidf_vectors = preprocess.doall()\n",
    "\n",
    "question = preprocess.clean_sentence(user_question, stopwords=True)\n",
    "question_embedding = preprocess.TFIDF_Q(question)\n",
    "\n",
    "similarity_heap = RetrieveAnswer(question_embedding , tfidf_vectors ,method)"
   ]
  },
  {
   "cell_type": "code",
   "execution_count": 38,
   "id": "controlling-engagement",
   "metadata": {
    "execution": {
     "iopub.execute_input": "2021-06-20T07:25:59.721770Z",
     "iopub.status.busy": "2021-06-20T07:25:59.720648Z",
     "iopub.status.idle": "2021-06-20T07:25:59.724662Z",
     "shell.execute_reply": "2021-06-20T07:25:59.724186Z",
     "shell.execute_reply.started": "2021-06-20T07:22:21.061904Z"
    },
    "id": "r-TZFjAERflE",
    "papermill": {
     "duration": 0.019155,
     "end_time": "2021-06-20T07:25:59.724819",
     "exception": false,
     "start_time": "2021-06-20T07:25:59.705664",
     "status": "completed"
    },
    "tags": []
   },
   "outputs": [
    {
     "name": "stdout",
     "output_type": "stream",
     "text": [
      "Question:  Tại sao nhóm tác giả xây dựng phần mềm này\n",
      "vì vậy nhóm tác giả xây dựng phần mềm\n",
      "rất mong nhận được sự đóng góp quý báu về chuyên môn và nghiệp vụ quản lý\n",
      "của các cán bộ khai thác sử dụng phần mềm để chúng tôi có cơ sở hoàn thiện bổ\n",
      "sung thêm các chức năng tiện ích trong các phiên bản sau\n",
      "mặc dù là cập nhật nâng cấp nhưng các yêu cầu quản lý theo các quy định\n",
      "mới thông tư số 022018ttbxd ngày 0622018 của bộ xây dựng quy định về\n",
      "bảo vệ môi trường trong thi công xây dựng công trình và chế độ báo cáo công tác bảo\n",
      "vệ môi trường ngành xây dựng thông tư số 082017ttbxd ngày 1652017 của\n",
      "bộ xây dựng về quy định quản lý chất thải rắn xây dựng của bộ xây dựng có nhiều\n",
      "điểm rất khác so với phần mềm trước\n"
     ]
    }
   ],
   "source": [
    "print(\"Question: \", user_question)\n",
    "\n",
    "# number of relevant solutions you want here it will print 2\n",
    "number_of_sentences_to_print = 2\n",
    "\n",
    "while number_of_sentences_to_print>0 and len(similarity_heap)>0:\n",
    "    x = similarity_heap.pop(0)\n",
    "    print(cleaned_sentences_with_stopwords[x[1]])\n",
    "    number_of_sentences_to_print-=1"
   ]
  }
 ],
 "metadata": {
  "kernelspec": {
   "display_name": "Python 3",
   "language": "python",
   "name": "python3"
  },
  "language_info": {
   "codemirror_mode": {
    "name": "ipython",
    "version": 3
   },
   "file_extension": ".py",
   "mimetype": "text/x-python",
   "name": "python",
   "nbconvert_exporter": "python",
   "pygments_lexer": "ipython3",
   "version": "3.9.13"
  },
  "papermill": {
   "default_parameters": {},
   "duration": 11.772855,
   "end_time": "2021-06-20T07:26:00.570891",
   "environment_variables": {},
   "exception": null,
   "input_path": "__notebook__.ipynb",
   "output_path": "__notebook__.ipynb",
   "parameters": {},
   "start_time": "2021-06-20T07:25:48.798036",
   "version": "2.3.3"
  }
 },
 "nbformat": 4,
 "nbformat_minor": 5
}
